{
  "nbformat": 4,
  "nbformat_minor": 0,
  "metadata": {
    "colab": {
      "name": "Au secours des statisticiens - Satya.K - Partie 1.ipynb",
      "provenance": [],
      "collapsed_sections": []
    },
    "kernelspec": {
      "name": "python3",
      "display_name": "Python 3"
    }
  },
  "cells": [
    {
      "cell_type": "markdown",
      "metadata": {
        "id": "co2X9cGIieV0",
        "colab_type": "text"
      },
      "source": [
        "# Au secours des statisticiens !\n",
        "\n",
        "Tes collègues statisticiens ont besoin de toi. Ils veulent apprendre à programmer en Python et ont des tonnes de calculs à faire.\n",
        "\n",
        "Très gentimment, tu acceptes de les aider. Réalise les missions ci-dessous."
      ]
    },
    {
      "cell_type": "markdown",
      "metadata": {
        "id": "rvnKhKV7CVoS",
        "colab_type": "text"
      },
      "source": [
        "![Einstien le génie](http://lemomo2.pagesperso-orange.fr/Astrosourire/Albert_Einstein_emc2.jpg)"
      ]
    },
    {
      "cell_type": "code",
      "metadata": {
        "id": "S4jmbgw-kWcj",
        "colab_type": "code",
        "outputId": "1f9c4335-16c5-4614-825c-b68364fbffa1",
        "colab": {
          "base_uri": "https://localhost:8080/",
          "height": 34
        }
      },
      "source": [
        "# Mission 1 : Afficher le message \"Bonjour Python\". Vous devez utiliser une variable str que vous passerez en paramètre de print\n",
        "Message = \"Bonjour Python\"\n",
        "print(Message)"
      ],
      "execution_count": 0,
      "outputs": [
        {
          "output_type": "stream",
          "text": [
            "Bonjour Python\n"
          ],
          "name": "stdout"
        }
      ]
    },
    {
      "cell_type": "code",
      "metadata": {
        "id": "4rJVUEkNk5Oo",
        "colab_type": "code",
        "outputId": "b46beceb-c6eb-4a16-fe89-3915216b8375",
        "colab": {
          "base_uri": "https://localhost:8080/",
          "height": 50
        }
      },
      "source": [
        "# Mission 2 : Créer une fonction qui prend en paramètre 2 nombres, et indique s'ils sont égaux ou pas.\n",
        "def equal_or_not(num1, num2):\n",
        "  if num1 == num2:\n",
        "    print(\"num1 and num2 are equal\")\n",
        "  else:\n",
        "    print(\"num1 and num2 are not equal\")\n",
        "equal_or_not(5,5)\n",
        "equal_or_not(5,8)"
      ],
      "execution_count": 0,
      "outputs": [
        {
          "output_type": "stream",
          "text": [
            "num1 and num2 are equal\n",
            "num1 and num2 are not equal\n"
          ],
          "name": "stdout"
        }
      ]
    },
    {
      "cell_type": "code",
      "metadata": {
        "id": "Q9X4m3D4h-xu",
        "colab_type": "code",
        "outputId": "b8a35d6b-19a9-4a1e-f001-27c86eedf92e",
        "colab": {
          "base_uri": "https://localhost:8080/",
          "height": 118
        }
      },
      "source": [
        "# Mission 3 : Créer une fonction qui utilise une boucle while ou for pour afficher la table de multiplication d'un nombre quelqueconque de 0 à 10 \n",
        "# en sautant une valeur sur 2\n",
        "# Exemple pour la table de 1 : 0, 2, 4, 6, 8, 10\n",
        "\n",
        "def multi_table(num1):\n",
        "    num = 0\n",
        "    while(num<=10):\n",
        "        res = num1 * num\n",
        "        print(res)\n",
        "        num+=2\n",
        "multi_table(1)"
      ],
      "execution_count": 0,
      "outputs": [
        {
          "output_type": "stream",
          "text": [
            "0\n",
            "2\n",
            "4\n",
            "6\n",
            "8\n",
            "10\n"
          ],
          "name": "stdout"
        }
      ]
    },
    {
      "cell_type": "code",
      "metadata": {
        "id": "Fe9kZrvklI0b",
        "colab_type": "code",
        "outputId": "8e0f2306-286a-4b0f-c223-78a2e9ed0ce5",
        "colab": {
          "base_uri": "https://localhost:8080/",
          "height": 34
        }
      },
      "source": [
        "# Mission 4 : Créer une boucle while qui affiche l'une à la suite de l'autre (c'est à dire horizontalement, et non pas l'une au dessus \n",
        "# de l'autre c'est à dire verticalement) les voyelles du mot le plus long en français, \"intergouvernementalisations\"\n",
        "mot = 'intergouvernementalisations'\n",
        "voyelles = 'aeiouy'\n",
        "i = 0\n",
        "\n",
        "while i < len(mot):\n",
        "  if(mot[i]) in voyelles:\n",
        "    print(mot[i], end = '')\n",
        "  else:\n",
        "    print('', end ='')\n",
        "  i+= 1\n"
      ],
      "execution_count": 0,
      "outputs": [
        {
          "output_type": "stream",
          "text": [
            "ieoueeeaiaio"
          ],
          "name": "stdout"
        }
      ]
    },
    {
      "cell_type": "code",
      "metadata": {
        "id": "6hjrrDyUlN8o",
        "colab_type": "code",
        "outputId": "a57df293-5c61-4dbb-bdbf-a56e8aec1621",
        "colab": {
          "base_uri": "https://localhost:8080/",
          "height": 50
        }
      },
      "source": [
        "# Mission 5 : Créer une fonction qui prend en paramètre 3 nombres, et demande deux opérations à effectuer (+, -, *, /)\n",
        "# et renvoie le résultat de l'opération appliqué. Vous devrez traiter le cas de la division par zéro.\n",
        "# Enfin un message indiquera si le résultat est positif, négatif ou nulle\n",
        "# Exemple d'opération : 0*32+2 = 2 ; 21/0+3 > \"Erreur, tu essaies de diviser par zéro\"\n",
        "def fonction(x,y,z):\n",
        "  try:\n",
        "    az = (x*y)/z\n",
        "    print(az)\n",
        "  except ZeroDivisionError:\n",
        "    print(\"Erreur, tu essaies de diviser par zéro\")\n",
        "  if az > 0:\n",
        "    print(\"le résultat est positif\")\n",
        "  elif az == 0:\n",
        "    print(\"le résultat est négatif\")\n",
        "  else:\n",
        "    print(\"le résultat est nulle\")\n",
        "fonction()\n",
        "    "
      ],
      "execution_count": 0,
      "outputs": [
        {
          "output_type": "stream",
          "text": [
            "1.2\n",
            "le résultat est positif\n"
          ],
          "name": "stdout"
        }
      ]
    },
    {
      "cell_type": "code",
      "metadata": {
        "id": "7b3JtuNClm4a",
        "colab_type": "code",
        "outputId": "e60bd164-bc58-4e24-f5aa-b76ce00bdf25",
        "colab": {
          "base_uri": "https://localhost:8080/",
          "height": 34
        }
      },
      "source": [
        "# Mission 6 : Créer une fonction lambda qui prend en paramètre 2 nombres, et renvoie le résultat de la division. \n",
        "# Si le dénominateur est égal à 0 afficher un message qui dit : \"On ne peut pas diviser par zéro\".\n",
        "def fonction_lambda(x, y):\n",
        "  a = lambda x,y:x/y\n",
        "  if y == 0:\n",
        "    print(\"On ne peut pas diviser par zéro\")\n",
        "  else:\n",
        "    print(a(x,y))\n",
        "fonction_lambda(8,0)"
      ],
      "execution_count": 0,
      "outputs": [
        {
          "output_type": "stream",
          "text": [
            "On ne peut pas diviser par zéro\n"
          ],
          "name": "stdout"
        }
      ]
    },
    {
      "cell_type": "code",
      "metadata": {
        "id": "r6DP6oTDmqfs",
        "colab_type": "code",
        "outputId": "489dd4de-f702-4969-ce40-e773a93fd02c",
        "colab": {
          "base_uri": "https://localhost:8080/",
          "height": 34
        }
      },
      "source": [
        "# Mission 7 : Créer une fonction qui prend en paramètre un nombre correspondant au salaire brut et renvoie le net pour les cadres.\n",
        "\n",
        "def fonction_brut_net(x):\n",
        "  net = (x-(x*(23/100)))\n",
        "  print(\"saleur net :\", net, \"euros\")\n",
        "fonction_brut_net(50000)"
      ],
      "execution_count": 0,
      "outputs": [
        {
          "output_type": "stream",
          "text": [
            "saleur net : 38500.0 euros\n"
          ],
          "name": "stdout"
        }
      ]
    },
    {
      "cell_type": "code",
      "metadata": {
        "id": "MyF5hG_hm1np",
        "colab_type": "code",
        "outputId": "1fb62fd6-623f-4ede-e59f-31231f7885f6",
        "colab": {
          "base_uri": "https://localhost:8080/",
          "height": 34
        }
      },
      "source": [
        "# Mission 8 : Créer une fonction qui permute la valeur de 2 variables\n",
        "def fonction(x,y):\n",
        "  x,y = y,x\n",
        "  return(x,y)\n",
        "fonction(1,2)"
      ],
      "execution_count": 0,
      "outputs": [
        {
          "output_type": "execute_result",
          "data": {
            "text/plain": [
              "(2, 1)"
            ]
          },
          "metadata": {
            "tags": []
          },
          "execution_count": 9
        }
      ]
    },
    {
      "cell_type": "markdown",
      "metadata": {
        "id": "CLFkEk_Fm9d4",
        "colab_type": "text"
      },
      "source": [
        "## Tes collègues sont imprésionnés. Du coup ils te montrent d'autres exercices sur lesquels ils ont bloqué. Codeur dans l'âme, tu te lances ^^"
      ]
    },
    {
      "cell_type": "code",
      "metadata": {
        "id": "pIoUqiKynBbe",
        "colab_type": "code",
        "outputId": "96d32794-ad2d-4bb9-ebd8-f93f98bb01a0",
        "colab": {
          "base_uri": "https://localhost:8080/",
          "height": 34
        }
      },
      "source": [
        "# Mission 9 : Créer une fonction qui prend en paramètre un jour, et renvoie le jour suivant (pour dimanche il renvoie lundi). \n",
        "# Vous pouvez vous servir des listes ou des dictionnaires.\n",
        "def fonction_jour(string):\n",
        "  week = ('Lundi','Mardi','Mercredi','Jeudi','Vendredi','Samedi','Dimanche')\n",
        "  if string != \"Dimanche\":\n",
        "    print(week[week.index(string)+1])\n",
        "  else:\n",
        "    print(\"Lundi\")\n",
        "fonction_jour('Lundi')"
      ],
      "execution_count": 0,
      "outputs": [
        {
          "output_type": "stream",
          "text": [
            "Mardi\n"
          ],
          "name": "stdout"
        }
      ]
    },
    {
      "cell_type": "code",
      "metadata": {
        "id": "68rX-Y0AnGiR",
        "colab_type": "code",
        "outputId": "898df807-36c6-4ce4-90e0-c6315c2ead89",
        "colab": {
          "base_uri": "https://localhost:8080/",
          "height": 218
        }
      },
      "source": [
        "# Mission 10 : Créer une fonction qui remplie une liste vide par les valeurs de la chaine de caractère : \n",
        "# \"Après douze douches douces les chaussettes de l'archi-duchesse sont-elles sèches, archi-sèches ?\"\n",
        "def remplie():\n",
        "  chaine = \"Après douze douches douces les chaussettes de l'archi-duchesse sont-elles sèches, archi-sèches ?\"\n",
        "  frags = chaine.split()\n",
        "  list = []\n",
        "  list.append(frags)\n",
        "  return list\n",
        "remplie()\n"
      ],
      "execution_count": 0,
      "outputs": [
        {
          "output_type": "execute_result",
          "data": {
            "text/plain": [
              "[['Après',\n",
              "  'douze',\n",
              "  'douches',\n",
              "  'douces',\n",
              "  'les',\n",
              "  'chaussettes',\n",
              "  'de',\n",
              "  \"l'archi-duchesse\",\n",
              "  'sont-elles',\n",
              "  'sèches,',\n",
              "  'archi-sèches',\n",
              "  '?']]"
            ]
          },
          "metadata": {
            "tags": []
          },
          "execution_count": 29
        }
      ]
    },
    {
      "cell_type": "code",
      "metadata": {
        "id": "YGNoBYBEnLAx",
        "colab_type": "code",
        "outputId": "1083bbd8-bb77-4ae0-9524-19cd3abd7262",
        "colab": {
          "base_uri": "https://localhost:8080/",
          "height": 50
        }
      },
      "source": [
        "# Mission 11 : Créer une fonction qui prend en paramètre un str, et renvoie en majuscule une lettre sur 2 sauf si c'est une consomme\n",
        "def majuscle(mot):\n",
        "  voyelles = \"aeiouy\"\n",
        "  i = 0\n",
        "  for letter in mot:\n",
        "    if letter in voyelles and i % 2 != 0:\n",
        "      print(letter.upper())\n",
        "    i+= 1\n",
        "majuscle(\"bonjour\")"
      ],
      "execution_count": 0,
      "outputs": [
        {
          "output_type": "stream",
          "text": [
            "O\n",
            "U\n"
          ],
          "name": "stdout"
        }
      ]
    },
    {
      "cell_type": "code",
      "metadata": {
        "id": "IJCr_jvwnOCh",
        "colab_type": "code",
        "outputId": "837023ca-5ebe-467e-9905-b38b9b0d1930",
        "colab": {
          "base_uri": "https://localhost:8080/",
          "height": 34
        }
      },
      "source": [
        "# Mission 12 : Créer une fonction qui se sert d'une compréhension de liste pour remplir une liste vide avec les valeurs de la chaine de caractère: \n",
        "# \"Fan de python\" puis Afficher la liste remplie\n",
        "def python_Fanboy():\n",
        "  phrase = \"Fan de python\"\n",
        "  return[mot for mot in phrase]\n",
        "python_Fanboy()"
      ],
      "execution_count": 0,
      "outputs": [
        {
          "output_type": "execute_result",
          "data": {
            "text/plain": [
              "['F', 'a', 'n', ' ', 'd', 'e', ' ', 'p', 'y', 't', 'h', 'o', 'n']"
            ]
          },
          "metadata": {
            "tags": []
          },
          "execution_count": 32
        }
      ]
    },
    {
      "cell_type": "code",
      "metadata": {
        "id": "xjYGsODEnSb2",
        "colab_type": "code",
        "outputId": "4a4d5093-99f2-48bb-87c3-715d22657638",
        "colab": {
          "base_uri": "https://localhost:8080/",
          "height": 67
        }
      },
      "source": [
        "# Mission 13 : Créer une fonction qui récupère 2 input de l'user, sa date de naissance et son prenom.\n",
        "# Convertissez la date de naissance en int pour la soustraire à l'année actuel que vous récupérerez grâce à un certain module :-P.\n",
        "# Enfin affichez le message : Bonjour [prenom], aujourd'hui tu as [age] ans.\n",
        "def present_age():\n",
        "  import datetime\n",
        "  now = datetime.datetime.now()\n",
        "  enter_date = str(input(\"Rentrez votre dob au format JJ-MM-YYYY\"))\n",
        "  prenom = str(input(\"Rentrez votre prenom\"))\n",
        "  jour, mois, annee = enter_date.split(\"-\")\n",
        "  age = now.year - int(annee)\n",
        "  print(\"Bonjour\" \" \" + prenom + \", aujourd'hui tu as \" + str(age) + \" ans\")\n",
        "present_age()"
      ],
      "execution_count": 0,
      "outputs": [
        {
          "output_type": "stream",
          "text": [
            "Rentrez votre dob au format JJ-MM-YYYY11-10-1986\n",
            "Rentrez votre prenomSatya\n",
            "Bonjour Satya, aujourd'hui tu as 33 ans\n"
          ],
          "name": "stdout"
        }
      ]
    }
  ]
}